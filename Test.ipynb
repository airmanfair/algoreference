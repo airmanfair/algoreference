{
 "cells": [
  {
   "cell_type": "code",
   "execution_count": 3,
   "metadata": {},
   "outputs": [],
   "source": [
    "def insertion_sort(ary):\n",
    "    if len(ary) < 2: return\n",
    "    for i in range(1, len(ary)):\n",
    "        key, j = ary[i], i - 1\n",
    "        while j >= 0 and ary[j] > key: \n",
    "            ary[j+1], j = ary[j], j - 1\n",
    "        ary[j+1] = key\n",
    "        \n",
    "def selection_sort(ary):\n",
    "    n = len(ary)\n",
    "    for i in range(n):\n",
    "        i_min = i\n",
    "        for j in range(i+1, n):\n",
    "            if ary[j] < ary[i_min]:\n",
    "                i_min = j\n",
    "        ary[i], ary[i_min] = ary[i_min], ary[i]\n",
    "\n",
    "def bubble_sort(ary):\n",
    "    n = len(ary)\n",
    "    for i in range(n):\n",
    "        for j in range(n-1, i, -1):\n",
    "            if ary[j] < ary[j-1]:\n",
    "                ary[j], ary[j-1] = ary[j-1], ary[j]\n",
    "    \n",
    "def merge_sort(ary):\n",
    "    \n",
    "    def merge(p, q, r):\n",
    "        a1, a2 = ary[p:q] + [float('inf')], ary[q:r] + [float('inf')]\n",
    "        i, j = 0, 0\n",
    "        for k in range(p, r):\n",
    "            if a1[i] <= a2[j]:\n",
    "                ary[k], i = a1[i], i + 1\n",
    "            else:\n",
    "                ary[k], j = a2[j], j + 1\n",
    "    \n",
    "    def sort(p, r):\n",
    "        if p < r:\n",
    "            q = (p+r)//2\n",
    "            sort(p, q)\n",
    "            sort(q+1, r)\n",
    "            merge(p, q, r)"
   ]
  },
  {
   "cell_type": "code",
   "execution_count": 4,
   "metadata": {},
   "outputs": [
    {
     "name": "stdout",
     "output_type": "stream",
     "text": [
      "[0, 1, 2, 3, 3, 3, 4, 4, 4, 5, 5, 6, 7, 8, 8, 9, 9]\n",
      "[0, 1, 2, 3, 3, 3, 4, 4, 4, 5, 5, 6, 7, 8, 8, 9, 9]\n",
      "[0, 1, 2, 3, 3, 3, 4, 4, 4, 5, 5, 6, 7, 8, 8, 9, 9]\n"
     ]
    }
   ],
   "source": [
    "ary1 = [6,8,4,8,3,9,3,0,1,2,5,4,3,7,9,4,5]\n",
    "insertion_sort(ary1)\n",
    "print(ary1)\n",
    "ary2 = [6,8,4,8,3,9,3,0,1,2,5,4,3,7,9,4,5]\n",
    "selection_sort(ary2)\n",
    "print(ary2)\n",
    "ary3 = [6,8,4,8,3,9,3,0,1,2,5,4,3,7,9,4,5]\n",
    "bubble_sort(ary3)\n",
    "print(ary3)"
   ]
  },
  {
   "cell_type": "code",
   "execution_count": 2,
   "metadata": {},
   "outputs": [
    {
     "data": {
      "text/plain": [
       "True"
      ]
     },
     "execution_count": 2,
     "metadata": {},
     "output_type": "execute_result"
    }
   ],
   "source": [
    "10 < float('inf')"
   ]
  },
  {
   "cell_type": "code",
   "execution_count": null,
   "metadata": {},
   "outputs": [],
   "source": []
  }
 ],
 "metadata": {
  "kernelspec": {
   "display_name": "Python 3",
   "language": "python",
   "name": "python3"
  },
  "language_info": {
   "codemirror_mode": {
    "name": "ipython",
    "version": 3
   },
   "file_extension": ".py",
   "mimetype": "text/x-python",
   "name": "python",
   "nbconvert_exporter": "python",
   "pygments_lexer": "ipython3",
   "version": "3.8.5"
  }
 },
 "nbformat": 4,
 "nbformat_minor": 4
}
