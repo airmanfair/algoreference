{
 "cells": [
  {
   "cell_type": "code",
   "execution_count": 7,
   "metadata": {},
   "outputs": [],
   "source": [
    "def insertion_sort(ary):\n",
    "    if len(ary) < 2: return\n",
    "    for i in range(1, len(ary)):\n",
    "        key, j = ary[i], i - 1\n",
    "        while j >= 0 and ary[j] > key: \n",
    "            ary[j+1], j = ary[j], j - 1\n",
    "        ary[j+1] = key\n",
    "        \n",
    "def selection_sort(ary):\n",
    "    n = len(ary)\n",
    "    for i in range(n):\n",
    "        i_min = i\n",
    "        for j in range(i+1, n):\n",
    "            if ary[j] < ary[i_min]:\n",
    "                i_min = j\n",
    "        ary[i], ary[i_min] = ary[i_min], ary[i]"
   ]
  },
  {
   "cell_type": "code",
   "execution_count": 8,
   "metadata": {},
   "outputs": [
    {
     "name": "stdout",
     "output_type": "stream",
     "text": [
      "[0, 1, 2, 3, 3, 3, 4, 4, 4, 5, 5, 6, 7, 8, 8, 9, 9]\n",
      "[0, 1, 2, 3, 3, 3, 4, 4, 4, 5, 5, 6, 7, 8, 8, 9, 9]\n"
     ]
    }
   ],
   "source": [
    "ary = [6,8,4,8,3,9,3,0,1,2,5,4,3,7,9,4,5]\n",
    "insertion_sort(ary)\n",
    "print(ary)\n",
    "ary = [6,8,4,8,3,9,3,0,1,2,5,4,3,7,9,4,5]\n",
    "selection_sort(ary)\n",
    "print(ary)"
   ]
  },
  {
   "cell_type": "code",
   "execution_count": null,
   "metadata": {},
   "outputs": [],
   "source": []
  }
 ],
 "metadata": {
  "kernelspec": {
   "display_name": "Python 3",
   "language": "python",
   "name": "python3"
  },
  "language_info": {
   "codemirror_mode": {
    "name": "ipython",
    "version": 3
   },
   "file_extension": ".py",
   "mimetype": "text/x-python",
   "name": "python",
   "nbconvert_exporter": "python",
   "pygments_lexer": "ipython3",
   "version": "3.8.5"
  }
 },
 "nbformat": 4,
 "nbformat_minor": 4
}
